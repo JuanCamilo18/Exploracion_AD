{
  "nbformat": 4,
  "nbformat_minor": 0,
  "metadata": {
    "colab": {
      "provenance": [],
      "authorship_tag": "ABX9TyPrUQAwZ5nhcox9uzhf1Uyg"
    },
    "kernelspec": {
      "name": "python3",
      "display_name": "Python 3"
    },
    "language_info": {
      "name": "python"
    }
  },
  "cells": [
    {
      "cell_type": "markdown",
      "source": [
        "# **Desafío de exploración de datos de vuelos**"
      ],
      "metadata": {
        "id": "vuDqfdEJ0B1k"
      }
    },
    {
      "cell_type": "markdown",
      "source": [
        "En este desafío, explorará un conjunto de datos del mundo real que contiene datos de vuelos del Departamento de Transporte de EE. UU. Comencemos por cargar y ver los datos."
      ],
      "metadata": {
        "id": "oPSF8bN70CzS"
      }
    },
    {
      "cell_type": "code",
      "source": [
        "import pandas as pd\n",
        "\n",
        "df_flights = pd.read_csv('data/flights.csv')\n",
        "df_flights.head()"
      ],
      "metadata": {
        "id": "YPs9O-aQ0T91"
      },
      "execution_count": null,
      "outputs": []
    },
    {
      "cell_type": "markdown",
      "source": [
        "El conjunto de datos contiene observaciones de vuelos nacionales de EE. UU. en 2013 y consta de los siguientes campos:"
      ],
      "metadata": {
        "id": "_2KHPJGo0DKp"
      }
    },
    {
      "cell_type": "markdown",
      "source": [
        "- Year: The year of the flight (all records are from 2013)\n",
        "- Month: The month of the flight.\n",
        "- DayofMonth: El día del mes en que salió el vuelo \n",
        "- DayOfWeek: el día de la semana en que salió el vuelo, del 1 (lunes) al 7 (domingo) \n",
        "- Transportista: La abreviatura de dos letras de la aerolínea.\n",
        "- DestAirportID: un identificador numérico único para el aeropuerto de destino - DestAirportName: El nombre completo del aeropuerto de destino \n",
        "- DestCity: La ciudad aeropuerto de destino DestState: El estado del aeropuerto de destino\n",
        "- CRSDepTime: La hora de salida programada \n",
        "- DepDelay: La cantidad de minutos que se retrasó la salida (el vuelo que salió antes de lo previsto tiene un valor negativo)\n",
        "- DelDelay15: un indicador binario de que la salida se retrasó más de 15 minutos (y por lo tanto se consideró \"tarde\") \n",
        "- CRSArrTime: La hora de llegada programada\n",
        "- ArrDelay: La cantidad de minutos que se retrasó la llegada (el vuelo que llegó antes de lo previsto tiene un valor negativo) \n",
        "- ArrDelay15: un indicador binario de que la llegada se retrasó más de 15 minutos (y por lo tanto se consideró \"tarde\")\n",
        "- Cancelado: Un indicador binario de que el vuelo fue cancelado.\n"
      ],
      "metadata": {
        "id": "qRq0RrOW0DNz"
      }
    },
    {
      "cell_type": "markdown",
      "source": [
        "Tu reto es explorar los datos de vuelo para analizar los posibles factores que inciden en los retrasos en la salida o llegada de un vuelo. \n",
        "\n",
        "1. Comience por limpiar los datos. \n",
        "\n",
        "Identifique cualquier dato nulo o faltante e impute los valores de reemplazo apropiados. Identifique y elimine cualquier valor atípico en las columnas DepDelay y ArrDelay. \n",
        "\n",
        "2. Explore los datos limpios. \n",
        "\n",
        "- Ver estadísticas de resumen para los campos numéricos en el conjunto de datos. \n",
        "- Determine la distribución de las columnas DepDelay y ArrDelay. \n",
        "- Utilice estadísticas, funciones agregadas y visualizaciones para responder a las siguientes preguntas: \n",
        "\n",
        "¿Cuáles son los retrasos promedio (promedio) de salida y llegada? \n",
        "\n",
        "¿Cómo se comparan los transportistas en términos de rendimiento de retraso de llegada? ¿Hay una diferencia notable en los retrasos de llegada para los diferentes días de la semana? \n",
        "\n",
        "¿Qué aeropuerto de salida tiene el retraso medio de salida más alto? ¿Las salidas tardías* tienden a provocar retrasos de llegada más prolongados que las salidas puntuales?* \n",
        "\n",
        "¿Qué ruta (del aeropuerto de origen al aeropuerto de destino) tiene la mayor cantidad de llegadas tardías*?* \n",
        "\n",
        "¿Qué ruta tiene el promedio de demoras de llegada más alto? Agregue celdas de descuento y código según sea necesario para crear su solución. \n",
        "\n",
        "***Nota:*** No existe una única solución \"correcta\". Se proporciona una solución de muestra en 01 - Vuelos Challenge.ipynb."
      ],
      "metadata": {
        "id": "OToW0gY92Uk6"
      }
    },
    {
      "cell_type": "markdown",
      "source": [],
      "metadata": {
        "id": "zDnMEiZs27t6"
      }
    },
    {
      "cell_type": "code",
      "execution_count": null,
      "metadata": {
        "id": "lAE1ihCcztrj"
      },
      "outputs": [],
      "source": []
    }
  ]
}