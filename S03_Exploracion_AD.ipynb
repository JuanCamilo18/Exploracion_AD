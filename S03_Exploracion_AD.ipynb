{
  "nbformat": 4,
  "nbformat_minor": 0,
  "metadata": {
    "colab": {
      "provenance": [],
      "authorship_tag": "ABX9TyMJ8/c2AFLPWw5tXs6clUxG",
      "include_colab_link": true
    },
    "kernelspec": {
      "name": "python3",
      "display_name": "Python 3"
    },
    "language_info": {
      "name": "python"
    }
  },
  "cells": [
    {
      "cell_type": "markdown",
      "metadata": {
        "id": "view-in-github",
        "colab_type": "text"
      },
      "source": [
        "<a href=\"https://colab.research.google.com/github/JuanCamilo18/Exploracion_AD/blob/main/S03_Exploracion_AD.ipynb\" target=\"_parent\"><img src=\"https://colab.research.google.com/assets/colab-badge.svg\" alt=\"Open In Colab\"/></a>"
      ]
    },
    {
      "cell_type": "markdown",
      "source": [
        "# **Explorando datos con Python - datos del mundo real**"
      ],
      "metadata": {
        "id": "bjRO7HuV4QBv"
      }
    },
    {
      "cell_type": "markdown",
      "source": [
        "En el último cuaderno, observamos las calificaciones de los datos de nuestros estudiantes e investigamos los datos visualmente con histogramas y diagramas de caja. Ahora veremos casos más complejos, describiremos los datos con más detalle y discutiremos cómo hacer comparaciones básicas entre datos."
      ],
      "metadata": {
        "id": "FdEn3b8D4cT_"
      }
    },
    {
      "cell_type": "markdown",
      "source": [
        "### **Distribuciones de datos del mundo real**\n",
        "\n",
        "Anteriormente, observamos las calificaciones de los datos de nuestros estudiantes y estimamos a partir de esta muestra cómo sería la población total de calificaciones. Refresquemos nuestra memoria y echemos un vistazo a estos datos nuevamente.\n",
        "\n",
        "Ejecute el siguiente código para imprimir los datos y hacer un histograma + diagrama de caja que muestre las calificaciones de nuestra muestra de estudiantes."
      ],
      "metadata": {
        "id": "6C0k7c0_4l-4"
      }
    },
    {
      "cell_type": "code",
      "source": [
        "import pandas as pd\n",
        "from matplotlib import pyplot as plt\n",
        "\n",
        "# Load data from a text file\n",
        "!wget https://raw.githubusercontent.com/MicrosoftDocs/mslearn-introduction-to-machine-learning/main/Data/ml-basics/grades.csv\n",
        "df_students = pd.read_csv('grades.csv',delimiter=',',header='infer')\n",
        "\n",
        "# Remove any rows with missing data\n",
        "df_students = df_students.dropna(axis=0, how='any')\n",
        "\n",
        "# Calculate who passed, assuming '60' is the grade needed to pass\n",
        "passes  = pd.Series(df_students['Grade'] >= 60)\n",
        "\n",
        "# Save who passed to the Pandas dataframe\n",
        "df_students = pd.concat([df_students, passes.rename(\"Pass\")], axis=1)\n",
        "\n",
        "\n",
        "# Print the result out into this notebook\n",
        "print(df_students)\n",
        "\n",
        "\n",
        "# Create a function that we can re-use\n",
        "def show_distribution(var_data):\n",
        "    '''\n",
        "    This function will make a distribution (graph) and display it\n",
        "    '''\n",
        "\n",
        "    # Get statistics\n",
        "    min_val = var_data.min()\n",
        "    max_val = var_data.max()\n",
        "    mean_val = var_data.mean()\n",
        "    med_val = var_data.median()\n",
        "    mod_val = var_data.mode()[0]\n",
        "\n",
        "    print('Minimum:{:.2f}\\nMean:{:.2f}\\nMedian:{:.2f}\\nMode:{:.2f}\\nMaximum:{:.2f}\\n'.format(min_val,\n",
        "                                                                                            mean_val,\n",
        "                                                                                            med_val,\n",
        "                                                                                            mod_val,\n",
        "                                                                                            max_val))\n",
        "\n",
        "    # Create a figure for 2 subplots (2 rows, 1 column)\n",
        "    fig, ax = plt.subplots(2, 1, figsize = (10,4))\n",
        "\n",
        "    # Plot the histogram   \n",
        "    ax[0].hist(var_data)\n",
        "    ax[0].set_ylabel('Frequency')\n",
        "\n",
        "    # Add lines for the mean, median, and mode\n",
        "    ax[0].axvline(x=min_val, color = 'gray', linestyle='dashed', linewidth = 2)\n",
        "    ax[0].axvline(x=mean_val, color = 'cyan', linestyle='dashed', linewidth = 2)\n",
        "    ax[0].axvline(x=med_val, color = 'red', linestyle='dashed', linewidth = 2)\n",
        "    ax[0].axvline(x=mod_val, color = 'yellow', linestyle='dashed', linewidth = 2)\n",
        "    ax[0].axvline(x=max_val, color = 'gray', linestyle='dashed', linewidth = 2)\n",
        "\n",
        "    # Plot the boxplot   \n",
        "    ax[1].boxplot(var_data, vert=False)\n",
        "    ax[1].set_xlabel('Value')\n",
        "\n",
        "    # Add a title to the Figure\n",
        "    fig.suptitle('Data Distribution')\n",
        "\n",
        "    # Show the figure\n",
        "    fig.show()\n",
        "\n",
        "\n",
        "show_distribution(df_students['Grade'])"
      ],
      "metadata": {
        "id": "ONVGVGnO418_",
        "colab": {
          "base_uri": "https://localhost:8080/",
          "height": 1000
        },
        "outputId": "f38f55bb-c75a-49e2-f7dd-1e5461c23a1e"
      },
      "execution_count": 1,
      "outputs": [
        {
          "output_type": "stream",
          "name": "stdout",
          "text": [
            "--2023-03-14 04:52:54--  https://raw.githubusercontent.com/MicrosoftDocs/mslearn-introduction-to-machine-learning/main/Data/ml-basics/grades.csv\n",
            "Resolving raw.githubusercontent.com (raw.githubusercontent.com)... 185.199.108.133, 185.199.109.133, 185.199.110.133, ...\n",
            "Connecting to raw.githubusercontent.com (raw.githubusercontent.com)|185.199.108.133|:443... connected.\n",
            "HTTP request sent, awaiting response... 200 OK\n",
            "Length: 322 [text/plain]\n",
            "Saving to: ‘grades.csv’\n",
            "\n",
            "\rgrades.csv            0%[                    ]       0  --.-KB/s               \rgrades.csv          100%[===================>]     322  --.-KB/s    in 0s      \n",
            "\n",
            "2023-03-14 04:52:54 (3.42 MB/s) - ‘grades.csv’ saved [322/322]\n",
            "\n",
            "         Name  StudyHours  Grade   Pass\n",
            "0         Dan       10.00   50.0  False\n",
            "1       Joann       11.50   50.0  False\n",
            "2       Pedro        9.00   47.0  False\n",
            "3       Rosie       16.00   97.0   True\n",
            "4       Ethan        9.25   49.0  False\n",
            "5       Vicky        1.00    3.0  False\n",
            "6    Frederic       11.50   53.0  False\n",
            "7      Jimmie        9.00   42.0  False\n",
            "8      Rhonda        8.50   26.0  False\n",
            "9    Giovanni       14.50   74.0   True\n",
            "10  Francesca       15.50   82.0   True\n",
            "11      Rajab       13.75   62.0   True\n",
            "12    Naiyana        9.00   37.0  False\n",
            "13       Kian        8.00   15.0  False\n",
            "14      Jenny       15.50   70.0   True\n",
            "15     Jakeem        8.00   27.0  False\n",
            "16     Helena        9.00   36.0  False\n",
            "17      Ismat        6.00   35.0  False\n",
            "18      Anila       10.00   48.0  False\n",
            "19       Skye       12.00   52.0  False\n",
            "20     Daniel       12.50   63.0   True\n",
            "21      Aisha       12.00   64.0   True\n",
            "Minimum:3.00\n",
            "Mean:49.18\n",
            "Median:49.50\n",
            "Mode:50.00\n",
            "Maximum:97.00\n",
            "\n"
          ]
        },
        {
          "output_type": "display_data",
          "data": {
            "text/plain": [
              "<Figure size 720x288 with 2 Axes>"
            ],
            "image/png": "[encoded data removed]"
          },
          "metadata": {
            "needs_background": "light"
          }
        }
      ]
    },
    {
      "cell_type": "markdown",
      "source": [
        "Como recordará, nuestros datos tenían la media y la moda en el centro, con datos distribuidos simétricamente desde allí.\n",
        "\n",
        "Ahora echemos un vistazo a la distribución de los datos de horas de estudio."
      ],
      "metadata": {
        "id": "kHg1Darg4qkx"
      }
    },
    {
      "cell_type": "code",
      "source": [
        "# Get the variable to examine\n",
        "col = df_students['StudyHours']\n",
        "# Call the function\n",
        "show_distribution(col)"
      ],
      "metadata": {
        "id": "usQsjyvh45h9",
        "colab": {
          "base_uri": "https://localhost:8080/",
          "height": 412
        },
        "outputId": "74cf1e1f-9ee3-4cbc-f2c7-665dc783b01a"
      },
      "execution_count": 2,
      "outputs": [
        {
          "output_type": "stream",
          "name": "stdout",
          "text": [
            "Minimum:1.00\n",
            "Mean:10.52\n",
            "Median:10.00\n",
            "Mode:9.00\n",
            "Maximum:16.00\n",
            "\n"
          ]
        },
        {
          "output_type": "display_data",
          "data": {
            "text/plain": [
              "<Figure size 720x288 with 2 Axes>"
            ],
            "image/png": "[encoded data removed]"
          },
          "metadata": {
            "needs_background": "light"
          }
        }
      ]
    },
    {
      "cell_type": "markdown",
      "source": [
        "La distribución de los datos de tiempo de estudio es significativamente diferente a la de las calificaciones.\n",
        "\n",
        "Tenga en cuenta que los bigotes del diagrama de caja solo comienzan alrededor de 6,0, lo que indica que la gran mayoría del primer trimestre de los datos está por encima de este valor. El mínimo está marcado con una o , lo que indica que estadísticamente es un valor atípico , un valor que se encuentra significativamente fuera del rango del resto de la distribución.\n",
        "\n",
        "Los valores atípicos pueden ocurrir por muchas razones. Tal vez un estudiante pretendía registrar \"10\" horas de tiempo de estudio, pero ingresó \"1\" y se perdió el \"0\". ¡O tal vez el estudiante era anormalmente perezoso cuando se trataba de estudiar! De cualquier manera, es una anomalía estadística que no representa a un estudiante típico. Veamos cómo se ve la distribución sin él."
      ],
      "metadata": {
        "id": "KESp7dCo45p1"
      }
    },
    {
      "cell_type": "code",
      "execution_count": 3,
      "metadata": {
        "id": "RGO_JTOI4E8X",
        "colab": {
          "base_uri": "https://localhost:8080/",
          "height": 412
        },
        "outputId": "a08bb387-b9ab-4794-f56c-16edfcdc9463"
      },
      "outputs": [
        {
          "output_type": "stream",
          "name": "stdout",
          "text": [
            "Minimum:6.00\n",
            "Mean:10.98\n",
            "Median:10.00\n",
            "Mode:9.00\n",
            "Maximum:16.00\n",
            "\n"
          ]
        },
        {
          "output_type": "display_data",
          "data": {
            "text/plain": [
              "<Figure size 720x288 with 2 Axes>"
            ],
            "image/png": "[encoded data removed]"
          },
          "metadata": {
            "needs_background": "light"
          }
        }
      ],
      "source": [
        "# Get the variable to examine\n",
        "# We will only get students who have studied more than one hour\n",
        "col = df_students[df_students.StudyHours>1]['StudyHours']\n",
        "\n",
        "# Call the function\n",
        "show_distribution(col)"
      ]
    },
    {
      "cell_type": "markdown",
      "source": [
        "Con fines de aprendizaje, acabamos de tratar el valor 1 como un verdadero valor atípico aquí y lo excluimos. En el mundo real, sería inusual excluir datos en los extremos sin más justificación cuando el tamaño de nuestra muestra es tan pequeño. Esto se debe a que cuanto menor sea el tamaño de nuestra muestra, más probable es que nuestra muestra sea una mala representación de toda la población. (Aquí, la población se refiere a las calificaciones de todos los estudiantes, no solo de nuestros 22). Por ejemplo, si muestreamos el tiempo de estudio de otros 1000 estudiantes, ¡podríamos encontrar que en realidad es bastante común no estudiar mucho!\n",
        "\n",
        "Cuando tenemos más datos disponibles, nuestra muestra se vuelve más confiable. Esto hace que sea más fácil considerar valores atípicos como valores que caen por debajo o por encima de los percentiles dentro de los cuales se encuentran la mayoría de los datos. Por ejemplo, el siguiente código utiliza la función cuantil de Pandas para excluir las observaciones por debajo del percentil 0,01 (el valor por encima del cual reside el 99 % de los datos)."
      ],
      "metadata": {
        "id": "5X3J9FtV49P9"
      }
    },
    {
      "cell_type": "code",
      "source": [
        "# calculate the 0.01th percentile\n",
        "q01 = df_students.StudyHours.quantile(0.01)\n",
        "# Get the variable to examine\n",
        "col = df_students[df_students.StudyHours>q01]['StudyHours']\n",
        "# Call the function\n",
        "show_distribution(col)"
      ],
      "metadata": {
        "id": "94Wy4hxV5c3W",
        "colab": {
          "base_uri": "https://localhost:8080/",
          "height": 412
        },
        "outputId": "b020763f-ed8e-4530-cdb0-7902c5fd2632"
      },
      "execution_count": 4,
      "outputs": [
        {
          "output_type": "stream",
          "name": "stdout",
          "text": [
            "Minimum:6.00\n",
            "Mean:10.98\n",
            "Median:10.00\n",
            "Mode:9.00\n",
            "Maximum:16.00\n",
            "\n"
          ]
        },
        {
          "output_type": "display_data",
          "data": {
            "text/plain": [
              "<Figure size 720x288 with 2 Axes>"
            ],
            "image/png": "[encoded data removed]"
          },
          "metadata": {
            "needs_background": "light"
          }
        }
      ]
    },
    {
      "cell_type": "markdown",
      "source": [
        "Sugerencia : también puede eliminar los valores atípicos en el extremo superior de la distribución definiendo un umbral en un valor de percentil alto. Por ejemplo, podría usar la función cuantil para encontrar el percentil 0,99 por debajo del cual reside el 99 % de los datos.\n",
        "\n",
        "Con los valores atípicos eliminados, el diagrama de caja muestra todos los datos dentro de los cuatro cuartiles. Tenga en cuenta que la distribución no es simétrica como lo es para los datos de grado. Hay algunos alumnos con tiempos de estudio muy elevados, en torno a las 16 horas, pero el grueso de los datos se sitúa entre las 7 y las 13 horas. Los pocos valores extremadamente altos tiran de la media hacia el extremo superior de la escala.\n",
        "\n",
        "Veamos la densidad de esta distribución."
      ],
      "metadata": {
        "id": "KWO-NSoa5fjE"
      }
    },
    {
      "cell_type": "code",
      "source": [
        "def show_density(var_data):\n",
        "    fig = plt.figure(figsize=(10,4))\n",
        "\n",
        "    # Plot density\n",
        "    var_data.plot.density()\n",
        "\n",
        "    # Add titles and labels\n",
        "    plt.title('Data Density')\n",
        "\n",
        "    # Show the mean, median, and mode\n",
        "    plt.axvline(x=var_data.mean(), color = 'cyan', linestyle='dashed', linewidth = 2)\n",
        "    plt.axvline(x=var_data.median(), color = 'red', linestyle='dashed', linewidth = 2)\n",
        "    plt.axvline(x=var_data.mode()[0], color = 'yellow', linestyle='dashed', linewidth = 2)\n",
        "\n",
        "    # Show the figure\n",
        "    plt.show()\n",
        "\n",
        "# Get the density of StudyHours\n",
        "show_density(col)"
      ],
      "metadata": {
        "id": "Pnu4GbT75j0V",
        "colab": {
          "base_uri": "https://localhost:8080/",
          "height": 281
        },
        "outputId": "e20232e0-6d2e-42ca-f1fa-bb6e76a74f51"
      },
      "execution_count": 5,
      "outputs": [
        {
          "output_type": "display_data",
          "data": {
            "text/plain": [
              "<Figure size 720x288 with 1 Axes>"
            ],
            "image/png": "[encoded data removed]"
          },
          "metadata": {
            "needs_background": "light"
          }
        }
      ]
    },
    {
      "cell_type": "markdown",
      "source": [
        "\n",
        "Este tipo de distribución se llama asimétrica a la derecha . La masa de los datos está en el lado izquierdo de la distribución, creando una larga cola hacia la derecha debido a los valores en el extremo superior, que tiran de la media hacia la derecha.\n",
        "\n",
        "#### **Medidas de varianza**\n",
        "\n",
        "Así que ahora tenemos una buena idea de dónde está la mitad de las distribuciones de datos de calificaciones y horas de estudio. Sin embargo, hay otro aspecto de las distribuciones que debemos examinar: ¿cuánta variabilidad hay en los datos?\n",
        "\n",
        "Las estadísticas típicas que miden la variabilidad en los datos incluyen:\n",
        "\n",
        "- **Rango :** La diferencia entre el máximo y el mínimo. No hay una función integrada para esto, pero es fácil de calcular usando las funciones min y max .\n",
        "- **Varianza :** El promedio de la diferencia al cuadrado de la media. Puede usar la función var incorporada para encontrar esto.\n",
        "- **Desviación estándar :** La raíz cuadrada de la varianza. Puede usar la función estándar incorporada para encontrar esto."
      ],
      "metadata": {
        "id": "3WQFZc6u5j8W"
      }
    },
    {
      "cell_type": "code",
      "source": [],
      "metadata": {
        "id": "wRJ0Gp105xEN"
      },
      "execution_count": null,
      "outputs": []
    },
    {
      "cell_type": "markdown",
      "source": [
        "De estas estadísticas, la desviación estándar es generalmente la más útil. Proporciona una medida de la varianza de los datos en la misma escala que los datos mismos (por lo tanto, puntos de calificación para la distribución de calificaciones y horas para la distribución de horas de estudio). Cuanto mayor sea la desviación estándar, mayor será la variación al comparar los valores de la distribución con la media de la distribución ; en otras palabras, los datos estarán más dispersos.\n",
        "\n",
        "Cuando se trabaja con una distribución normal , la desviación estándar funciona con las características particulares de una distribución normal para brindar una visión aún mayor. Ejecute la celda a continuación para ver la relación entre las desviaciones estándar y los datos en la distribución normal."
      ],
      "metadata": {
        "id": "mvCAWUPT5xM8"
      }
    },
    {
      "cell_type": "code",
      "source": [],
      "metadata": {
        "id": "EMUhID-G5yAM"
      },
      "execution_count": null,
      "outputs": []
    },
    {
      "cell_type": "markdown",
      "source": [
        "\n",
        "Las líneas horizontales muestran el porcentaje de datos dentro de 1, 2 y 3 desviaciones estándar de la media (más o menos).\n",
        "\n",
        "En cualquier distribución normal:\n",
        "\n",
        "- Aproximadamente el 68,26% de los valores se encuentran dentro de una desviación estándar de la media.\n",
        "- Aproximadamente el 95,45% de los valores se encuentran dentro de dos desviaciones estándar de la media.\n",
        "- Aproximadamente el 99,73% de los valores se encuentran dentro de las tres desviaciones estándar de la media.\n",
        "\n",
        "Entonces, como sabemos que la calificación media es 49,18, la desviación estándar es 21,74 y la distribución de calificaciones es aproximadamente normal, podemos calcular que el 68,26 % de los estudiantes deben obtener una calificación entre 27,44 y 70,92.\n",
        "\n",
        "Las estadísticas descriptivas que hemos usado para comprender la distribución de las variables de datos de los estudiantes son la base del análisis estadístico. Debido a que son una parte tan importante de la exploración de sus datos, existe un método integrado describedel objeto DataFrame que devuelve las estadísticas descriptivas principales para todas las columnas numéricas."
      ],
      "metadata": {
        "id": "kk2jyaFZ5yFk"
      }
    },
    {
      "cell_type": "markdown",
      "source": [
        "\n",
        "### **Comparando datos**\n",
        "\n",
        "Ahora que sabe algo sobre la distribución estadística de los datos en su conjunto de datos, está listo para examinar sus datos para identificar cualquier relación aparente entre las variables.\n",
        "\n",
        "En primer lugar, deshagámonos de las filas que contengan valores atípicos para que tengamos una muestra que sea representativa de una clase típica de estudiantes. Identificamos que la columna StudyHours contiene algunos valores atípicos con valores extremadamente bajos, por lo que eliminaremos esas filas."
      ],
      "metadata": {
        "id": "lXKVpuSN5dC1"
      }
    },
    {
      "cell_type": "code",
      "source": [],
      "metadata": {
        "id": "JzW5zI9M5_Ot"
      },
      "execution_count": null,
      "outputs": []
    },
    {
      "cell_type": "markdown",
      "source": [
        "#### **Comparación de variables numéricas y categóricas**\n",
        "\n",
        "Los datos incluyen dos variables numéricas ( **StudyHours y Grade** ) y dos variables categóricas ( **Name y Pass** ). Comencemos comparando la columna numérica **StudyHours** con la columna categórica **Aprobado** para ver si existe una relación aparente entre la cantidad de horas estudiadas y la calificación aprobatoria.\n",
        "\n",
        "Para hacer esta comparación, creemos diagramas de caja que muestren la distribución de las Horas de estudio para cada posible valor de Aprobado (verdadero y falso)."
      ],
      "metadata": {
        "id": "5yKFvKev5_VV"
      }
    },
    {
      "cell_type": "code",
      "source": [],
      "metadata": {
        "id": "abwp7-tA6RF3"
      },
      "execution_count": null,
      "outputs": []
    },
    {
      "cell_type": "markdown",
      "source": [
        "Al comparar las distribuciones de StudyHours, es inmediatamente evidente (si no particularmente sorprendente) que los estudiantes que aprobaron el curso tendieron a estudiar durante más horas que los estudiantes que no lo hicieron. Entonces, si desea predecir si es probable que un estudiante apruebe el curso o no, la cantidad de tiempo que dedica a estudiar puede ser un buen indicador predictivo.\n",
        "\n",
        "Comparar variables numéricas\n",
        "Ahora comparemos dos variables numéricas. Comenzaremos creando un gráfico de barras que muestre tanto la calificación como las horas de estudio."
      ],
      "metadata": {
        "id": "LycrZZoe6ROL"
      }
    },
    {
      "cell_type": "code",
      "source": [],
      "metadata": {
        "id": "zT6mp0EA6R81"
      },
      "execution_count": null,
      "outputs": []
    },
    {
      "cell_type": "markdown",
      "source": [
        "\n",
        "El gráfico muestra barras tanto para el grado como para las horas de estudio de cada estudiante, pero no es fácil de comparar porque los valores están en diferentes escalas. Una calificación se mide en puntos de calificación (y varía de 3 a 97), y el tiempo de estudio se mide en horas (y varía de 1 a 16).\n",
        "\n",
        "Una técnica común cuando se trata de datos numéricos en diferentes escalas es normalizar los datos para que los valores conserven su distribución proporcional pero se midan en la misma escala. Para lograr esto, usaremos una técnica llamada escalado MinMax que distribuye los valores proporcionalmente en una escala de 0 a 1. Puede escribir el código para aplicar esta transformación, pero la biblioteca **Scikit-Learn** proporciona un escalador para hacerlo por usted. ."
      ],
      "metadata": {
        "id": "EZcjyVnZ6SEL"
      }
    },
    {
      "cell_type": "code",
      "source": [],
      "metadata": {
        "id": "R8KAodbi6WJr"
      },
      "execution_count": null,
      "outputs": []
    },
    {
      "cell_type": "markdown",
      "source": [
        "Con los datos normalizados, es más fácil ver una relación aparente entre la calificación y el tiempo de estudio. No es una coincidencia exacta, pero definitivamente parece que los estudiantes con calificaciones más altas tienden a haber estudiado más.\n",
        "\n",
        "Así que parece haber una correlación entre el tiempo de estudio y el grado. De hecho, hay una medida de correlación estadística que podemos usar para cuantificar la relación entre estas columnas."
      ],
      "metadata": {
        "id": "RnGM7i_E6WPx"
      }
    },
    {
      "cell_type": "code",
      "source": [],
      "metadata": {
        "id": "yS5vEBbh6YyN"
      },
      "execution_count": null,
      "outputs": []
    },
    {
      "cell_type": "markdown",
      "source": [
        "La estadística de correlación es un valor entre -1 y 1 que indica la fuerza de una relación. Valores por encima de 0 indican una correlación positiva (valores altos de una variable tienden a coincidir con valores altos de la otra), mientras que valores por debajo de 0 indican una correlación negativa (valores altos de una variable tienden a coincidir con valores bajos de la otra). En este caso, el valor de correlación es cercano a 1, mostrando una correlación fuertemente positiva entre el tiempo de estudio y el grado.\n",
        "\n",
        "**Nota :** Los científicos de datos suelen citar la máxima \" la correlación no es causalidad \". En otras palabras, por muy tentador que sea, no debe interpretar la correlación estadística como una explicación de por qué uno de los valores es alto. En el caso de los datos de los estudiantes, las estadísticas demuestran que los estudiantes con notas altas tienden a tener también una gran cantidad de tiempo de estudio, pero esto no es lo mismo que demostrar que obtuvieron notas altas porque estudiaron mucho. La estadística también podría usarse como evidencia para respaldar la conclusión sin sentido de que los estudiantes estudiaron mucho porque sus calificaciones iban a ser altas.\n",
        "\n",
        "Otra forma de visualizar la correlación aparente entre dos columnas numéricas es usar un diagrama de dispersión ."
      ],
      "metadata": {
        "id": "6Yf5ZeWO6Y5L"
      }
    },
    {
      "cell_type": "code",
      "source": [],
      "metadata": {
        "id": "6ppaTDFd6dBD"
      },
      "execution_count": null,
      "outputs": []
    },
    {
      "cell_type": "markdown",
      "source": [
        "Una vez más, parece que hay un patrón perceptible en el que los estudiantes que estudiaron la mayor cantidad de horas son también los estudiantes que obtuvieron las calificaciones más altas.\n",
        "\n",
        "Podemos ver esto más claramente agregando una línea de regresión (o una línea de mejor ajuste ) a la gráfica que muestra la tendencia general en los datos. Para hacer esto, usaremos una técnica estadística llamada regresión de mínimos cuadrados .\n",
        "\n",
        "Recuerda cuando estabas aprendiendo a resolver ecuaciones lineales en la escuela y recuerda que la forma pendiente-intersección de una ecuación lineal se ve así:\n",
        "\n",
        "$y = metro X + b$\n",
        " \n",
        "\n",
        "En esta ecuación, y y x son las variables de coordenadas, m es la pendiente de la línea y b es la intersección y (donde la línea pasa por el eje Y).\n",
        "\n",
        "En el caso de nuestro diagrama de dispersión para los datos de nuestros estudiantes, ya tenemos nuestros valores para x ( Horario de estudio ) e y ( Calificación ), por lo que solo necesitamos calcular la intersección y la pendiente de la línea recta más cercana a esos puntos. Luego podemos formar una ecuación lineal que calcule un nuevo valor de y en esa línea para cada uno de nuestros valores de x ( Horas de estudio ). Para evitar confusiones, llamaremos a este nuevo valor de y f(x) (porque es el resultado de una función de ecuación lineal basada en x ). La diferencia entre el y original ( Grado) y el valor de f(x) es el error entre nuestra línea de regresión y la calificación real obtenida por el estudiante. Nuestro objetivo es calcular la pendiente y la intersección de una línea con el error general más bajo.\n",
        "\n",
        "Específicamente, definimos el error general tomando el error de cada punto, elevándolo al cuadrado y sumando todos los errores al cuadrado. La línea de mejor ajuste es la línea que nos da el valor más bajo para la suma de los errores cuadráticos , de ahí el nombre de regresión de mínimos cuadrados .\n",
        "\n",
        "Afortunadamente, no necesita codificar el cálculo de regresión usted mismo. El paquete SciPy incluye una clase de estadísticas que proporciona un método linregress para hacer el trabajo duro por usted. Esto devuelve (entre otras cosas) los coeficientes que necesita para la ecuación de la pendiente: pendiente ( m ) e intercepción ( b ) en función de un par dado de muestras variables que desea comparar."
      ],
      "metadata": {
        "id": "ONSN2VpW6dHK"
      }
    },
    {
      "cell_type": "code",
      "source": [],
      "metadata": {
        "id": "dSWhHZCt6s2D"
      },
      "execution_count": null,
      "outputs": []
    },
    {
      "cell_type": "markdown",
      "source": [
        "\n",
        "Tenga en cuenta que esta vez, el código trazó dos cosas distintas : el gráfico de dispersión de las horas de estudio de muestra y las calificaciones se traza como antes, y luego se traza una línea de mejor ajuste basada en los coeficientes de regresión de mínimos cuadrados.\n",
        "\n",
        "Los coeficientes de pendiente e intersección calculados para la línea de regresión se muestran arriba del gráfico.\n",
        "\n",
        "La línea se basa en los valores f (x) calculados para cada valor de StudyHours . Ejecute la siguiente celda para ver una tabla que incluye los siguientes valores:\n",
        "\n",
        "- Las horas de estudio de cada alumno.\n",
        "- La Nota obtenida por cada estudiante.\n",
        "- El valor de f(x) calculado utilizando los coeficientes de la línea de regresión.\n",
        "- El error entre el valor calculado de f(x) y el valor real de Grado .\n",
        "\n",
        "Algunos de los errores, particularmente en los extremos, y bastante grandes (hasta más de 17,5 puntos de calificación). Pero, en general, la línea está bastante cerca de las calificaciones reales."
      ],
      "metadata": {
        "id": "5b4rCNhx6s_0"
      }
    },
    {
      "cell_type": "code",
      "source": [],
      "metadata": {
        "id": "THWGjSyK6yHO"
      },
      "execution_count": null,
      "outputs": []
    },
    {
      "cell_type": "markdown",
      "source": [
        "\n",
        "### **Uso de los coeficientes de regresión para la predicción**\n",
        "\n",
        "Ahora que tiene los coeficientes de regresión para la relación entre el tiempo de estudio y la calificación, puede usarlos en una función para estimar la calificación esperada para una determinada cantidad de estudio."
      ],
      "metadata": {
        "id": "iId-IR8X6yL6"
      }
    },
    {
      "cell_type": "code",
      "source": [],
      "metadata": {
        "id": "qNiTh-1P60nT"
      },
      "execution_count": null,
      "outputs": []
    },
    {
      "cell_type": "markdown",
      "source": [
        "Entonces, al aplicar estadísticas a datos de muestra, ha determinado una relación entre el tiempo de estudio y la calificación y encapsulado esa relación en una función general que se puede usar para predecir una calificación para una cantidad determinada de tiempo de estudio.\n",
        "\n",
        "Esta técnica es, de hecho, la premisa básica del aprendizaje automático. Puede tomar un conjunto de datos de muestra que incluye una o más características (en este caso, la cantidad de horas estudiadas) y un valor de etiqueta conocido (en este caso, la calificación obtenida) y usar los datos de muestra para derivar una función que calcula valores de etiqueta predichos para cualquier conjunto dado de características."
      ],
      "metadata": {
        "id": "-6om6m2_60r6"
      }
    },
    {
      "cell_type": "markdown",
      "source": [
        "**Resumen**\n",
        "\n",
        "Aquí hemos mirado:\n",
        "\n",
        "Qué es un valor atípico y cómo eliminarlo\n",
        "Cómo se pueden sesgar los datos\n",
        "Cómo observar la dispersión de datos\n",
        "Maneras básicas de comparar variables, como calificaciones y tiempo de estudio\n",
        "Otras lecturas\n",
        "Para obtener más información sobre los paquetes de Python que exploró en este cuaderno, consulte la siguiente documentación:\n",
        "\n",
        "NumPy\n",
        "pandas\n",
        "matplotlib"
      ],
      "metadata": {
        "id": "IXIW435S630k"
      }
    },
    {
      "cell_type": "code",
      "source": [],
      "metadata": {
        "id": "vMUrCasR63oD"
      },
      "execution_count": null,
      "outputs": []
    }
  ]
}